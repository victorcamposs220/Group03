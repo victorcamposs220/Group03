{
 "cells": [
  {
   "cell_type": "code",
   "execution_count": 1,
   "metadata": {},
   "outputs": [
    {
     "name": "stdout",
     "output_type": "stream",
     "text": [
      "Requirement already satisfied: rdflib in c:\\users\\usuario\\appdata\\local\\packages\\pythonsoftwarefoundation.python.3.11_qbz5n2kfra8p0\\localcache\\local-packages\\python311\\site-packages (7.0.0)\n",
      "Requirement already satisfied: isodate<0.7.0,>=0.6.0 in c:\\users\\usuario\\appdata\\local\\packages\\pythonsoftwarefoundation.python.3.11_qbz5n2kfra8p0\\localcache\\local-packages\\python311\\site-packages (from rdflib) (0.6.1)\n",
      "Requirement already satisfied: pyparsing<4,>=2.1.0 in c:\\users\\usuario\\appdata\\local\\packages\\pythonsoftwarefoundation.python.3.11_qbz5n2kfra8p0\\localcache\\local-packages\\python311\\site-packages (from rdflib) (3.0.9)\n",
      "Requirement already satisfied: six in c:\\users\\usuario\\appdata\\local\\packages\\pythonsoftwarefoundation.python.3.11_qbz5n2kfra8p0\\localcache\\local-packages\\python311\\site-packages (from isodate<0.7.0,>=0.6.0->rdflib) (1.16.0)\n"
     ]
    }
   ],
   "source": [
    "!pip install rdflib"
   ]
  },
  {
   "cell_type": "code",
   "execution_count": 4,
   "metadata": {},
   "outputs": [
    {
     "name": "stdout",
     "output_type": "stream",
     "text": [
      "http://smartcity.linkeddata.es/lcc/resource/Street/GlorietaDelMarquesDeVadillo\n",
      "http://smartcity.linkeddata.es/lcc/resource/Street/CalleDeSanDelfin\n"
     ]
    }
   ],
   "source": [
    "from rdflib import Graph\n",
    "from rdflib.plugins.sparql import prepareQuery\n",
    "g = Graph()\n",
    "g.parse(\"result-with-links.ttl\", format=\"turtle\")\n",
    "distrito = \"Carabanchel\"\n",
    "\n",
    "q = prepareQuery('''\n",
    "            PREFIX ns: <http://smartcity.linkeddata.es/lcc/ontology/BicicletasElectricas#> \n",
    "            PREFIX xsd: <http://www.w3.org/2001/XMLSchema#> \n",
    "            PREFIX rdfs: <http://www.w3.org/2000/01/rdf-schema#>   \n",
    "            PREFIX data: <http://smartcity.linkeddata.es/lcc/resource/>  \n",
    "            PREFIX bicycle: <data:BicycleStation> \n",
    "            PREFIX district: <data:District> \n",
    "            PREFIX direction: <data:Direction>  \n",
    "            PREFIX hood: <data:Neighbourhood>  \n",
    "            PREFIX street: <data:Street>           \n",
    "\n",
    "            SELECT ?Street WHERE {\n",
    "                ?District rdfs:label \"''' + distrito + '''\". \n",
    "                ?Hood ns:neighbourhoodBelongsDistrict ?District.                \n",
    "                ?Direction ns:directionBelongsNeighbourhood ?Hood. \n",
    "                ?Direction ns:hasStreet ?Street.\n",
    "            } LIMIT 25''')\n",
    "        \n",
    "for r in g.query(q):\n",
    "    print(r.Street)"
   ]
  }
 ],
 "metadata": {
  "kernelspec": {
   "display_name": "env",
   "language": "python",
   "name": "python3"
  },
  "language_info": {
   "codemirror_mode": {
    "name": "ipython",
    "version": 3
   },
   "file_extension": ".py",
   "mimetype": "text/x-python",
   "name": "python",
   "nbconvert_exporter": "python",
   "pygments_lexer": "ipython3",
   "version": "3.11.6"
  }
 },
 "nbformat": 4,
 "nbformat_minor": 2
}
